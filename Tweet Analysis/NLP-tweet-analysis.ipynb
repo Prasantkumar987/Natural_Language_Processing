{
 "cells": [
  {
   "cell_type": "markdown",
   "metadata": {},
   "source": [
    "# Tweet Analysis"
   ]
  },
  {
   "cell_type": "code",
   "execution_count": 2,
   "metadata": {},
   "outputs": [],
   "source": [
    "import numpy as np\n",
    "import pandas as pd"
   ]
  },
  {
   "cell_type": "markdown",
   "metadata": {},
   "source": [
    "**Importing Data**"
   ]
  },
  {
   "cell_type": "code",
   "execution_count": 6,
   "metadata": {
    "execution": {
     "iopub.execute_input": "2021-02-20T07:45:08.462342Z",
     "iopub.status.busy": "2021-02-20T07:45:08.461589Z",
     "iopub.status.idle": "2021-02-20T07:45:08.569270Z",
     "shell.execute_reply": "2021-02-20T07:45:08.568680Z"
    },
    "papermill": {
     "duration": 0.124654,
     "end_time": "2021-02-20T07:45:08.569425",
     "exception": false,
     "start_time": "2021-02-20T07:45:08.444771",
     "status": "completed"
    },
    "tags": []
   },
   "outputs": [],
   "source": [
    "train_df = pd.read_csv('train.csv')\n",
    "test_df = pd.read_csv('test.csv')\n",
    "\n",
    "train_df.head()"
   ]
  },
  {
   "cell_type": "code",
   "execution_count": null,
   "metadata": {
    "execution": {
     "iopub.execute_input": "2021-02-20T07:45:08.604561Z",
     "iopub.status.busy": "2021-02-20T07:45:08.603757Z",
     "iopub.status.idle": "2021-02-20T07:45:08.608985Z",
     "shell.execute_reply": "2021-02-20T07:45:08.608396Z"
    },
    "papermill": {
     "duration": 0.028148,
     "end_time": "2021-02-20T07:45:08.609145",
     "exception": false,
     "start_time": "2021-02-20T07:45:08.580997",
     "status": "completed"
    },
    "tags": []
   },
   "outputs": [],
   "source": [
    "train_df = train_df.iloc[:,-2:]\n",
    "train_df.head()"
   ]
  },
  {
   "cell_type": "markdown",
   "metadata": {},
   "source": [
    "**Importing Libraries**"
   ]
  },
  {
   "cell_type": "code",
   "execution_count": 5,
   "metadata": {
    "execution": {
     "iopub.execute_input": "2021-02-20T07:45:08.640134Z",
     "iopub.status.busy": "2021-02-20T07:45:08.639408Z",
     "iopub.status.idle": "2021-02-20T07:45:10.298547Z",
     "shell.execute_reply": "2021-02-20T07:45:10.299180Z"
    },
    "papermill": {
     "duration": 1.67791,
     "end_time": "2021-02-20T07:45:10.299401",
     "exception": false,
     "start_time": "2021-02-20T07:45:08.621491",
     "status": "completed"
    },
    "tags": []
   },
   "outputs": [],
   "source": [
    "import re\n",
    "import nltk\n",
    "from nltk.corpus import stopwords\n",
    "from nltk.tokenize import word_tokenize, sent_tokenize\n",
    "from nltk.stem import WordNetLemmatizer\n",
    "from nltk import tokenize"
   ]
  },
  {
   "cell_type": "markdown",
   "metadata": {},
   "source": [
    "**Url Remover Function**"
   ]
  },
  {
   "cell_type": "code",
   "execution_count": null,
   "metadata": {
    "execution": {
     "iopub.execute_input": "2021-02-20T07:45:10.328123Z",
     "iopub.status.busy": "2021-02-20T07:45:10.327429Z",
     "iopub.status.idle": "2021-02-20T07:45:10.361258Z",
     "shell.execute_reply": "2021-02-20T07:45:10.360721Z"
    },
    "papermill": {
     "duration": 0.04934,
     "end_time": "2021-02-20T07:45:10.361419",
     "exception": false,
     "start_time": "2021-02-20T07:45:10.312079",
     "status": "completed"
    },
    "tags": []
   },
   "outputs": [],
   "source": [
    "def url_remover(data):\n",
    "    expand = re.sub(r\"http\\S+\", \"\", data)\n",
    "    \n",
    "    return expand\n",
    "\n",
    "train_df.text = train_df.text.apply(url_remover)\n",
    "\n",
    "train_df.text[7610]"
   ]
  },
  {
   "cell_type": "markdown",
   "metadata": {},
   "source": [
    "**Expanding Contractions**"
   ]
  },
  {
   "cell_type": "code",
   "execution_count": 6,
   "metadata": {
    "execution": {
     "iopub.execute_input": "2021-02-20T07:45:10.402990Z",
     "iopub.status.busy": "2021-02-20T07:45:10.397606Z",
     "iopub.status.idle": "2021-02-20T07:45:10.564484Z",
     "shell.execute_reply": "2021-02-20T07:45:10.565006Z"
    },
    "papermill": {
     "duration": 0.190921,
     "end_time": "2021-02-20T07:45:10.565211",
     "exception": false,
     "start_time": "2021-02-20T07:45:10.374290",
     "status": "completed"
    },
    "tags": []
   },
   "outputs": [
    {
     "name": "stdout",
     "output_type": "stream",
     "text": [
      "                                                   text  target\n",
      "0     Our Deeds are the Reason of this #earthquake M...       1\n",
      "1                Forest fire near La Ronge Sask. Canada       1\n",
      "2     All residents asked to  ishelter in place' are...       1\n",
      "3     13,000 people receive #wildfires evacuation or...       1\n",
      "4     Just got sent this photo from Ruby #Alaska as ...       1\n",
      "...                                                 ...     ...\n",
      "7608  Two giant cranes holding a bridge collapse int...       1\n",
      "7609  @aria_ahrary @TheTawniest The out of control w...       1\n",
      "7610        M1.94 [01:04 UTC]?5km S of Volcano Hawaii.        1\n",
      "7611  Police investigating after an e-bike collided ...       1\n",
      "7612  The Latest: More Homes Razed by Northern Calif...       1\n",
      "\n",
      "[7613 rows x 2 columns]\n"
     ]
    }
   ],
   "source": [
    "def contractions(phrase):\n",
    "    phrase = re.sub(r\"can\\'t\", \"can not\", phrase)\n",
    "    phrase = re.sub(r\"won\\’t\", \"will not\", phrase)\n",
    "    phrase = re.sub(r\"shouldn\\'t\", \"should not\", phrase)\n",
    "    phrase = re.sub(r\"couldn\\'t\", \"could not\", phrase)\n",
    "    phrase = re.sub(r\"don\\'t\", \"do not\", phrase)\n",
    "    phrase = re.sub(r\"haven\\'t\", \"have not\", phrase)\n",
    "    phrase = re.sub(r\"aren\\'t\", \"are not\", phrase)\n",
    "    phrase = re.sub(r\"isn\\'t\", \"is not\", phrase)\n",
    "  \n",
    "  \n",
    "  \n",
    "  # general\n",
    "    phrase = re.sub(r\"n\\'t\", \" not\", phrase)\n",
    "    phrase = re.sub(r\"\\'re\", \" are\", phrase)\n",
    "    phrase = re.sub(r\"\\'s\", \" is\", phrase)\n",
    "    phrase = re.sub(r\"\\'d\", \" would\", phrase)\n",
    "    phrase = re.sub(r\"\\'ll\", \" will\", phrase)\n",
    "    phrase = re.sub(r\"\\'t\", \" not\", phrase)\n",
    "    phrase = re.sub(r\"\\'ve\", \" have\", phrase)\n",
    "    phrase = re.sub(r\"\\'m\", \" am\", phrase)\n",
    "\n",
    "  \n",
    "    return phrase\n",
    "\n",
    "train_df.text = train_df.text.apply(contractions)\n",
    "print (train_df)"
   ]
  },
  {
   "cell_type": "markdown",
   "metadata": {},
   "source": [
    "**Removing Punctuations**"
   ]
  },
  {
   "cell_type": "code",
   "execution_count": 7,
   "metadata": {
    "execution": {
     "iopub.execute_input": "2021-02-20T07:45:10.613892Z",
     "iopub.status.busy": "2021-02-20T07:45:10.608573Z",
     "iopub.status.idle": "2021-02-20T07:45:10.656885Z",
     "shell.execute_reply": "2021-02-20T07:45:10.657378Z"
    },
    "papermill": {
     "duration": 0.079102,
     "end_time": "2021-02-20T07:45:10.657605",
     "exception": false,
     "start_time": "2021-02-20T07:45:10.578503",
     "status": "completed"
    },
    "tags": []
   },
   "outputs": [
    {
     "data": {
      "text/plain": [
       "'M  UTCkm S of Volcano Hawaii '"
      ]
     },
     "execution_count": 7,
     "metadata": {},
     "output_type": "execute_result"
    }
   ],
   "source": [
    "def remove_punctuations(data):\n",
    "    pattern=r'[^A-Za-z\\s]'\n",
    "    data=re.sub(pattern,'',data)\n",
    "    \n",
    "    return data\n",
    "\n",
    "train_df.text=train_df.text.apply(remove_punctuations)\n",
    "train_df.text[7610]"
   ]
  },
  {
   "cell_type": "markdown",
   "metadata": {},
   "source": [
    "**Removing Punctuations**"
   ]
  },
  {
   "cell_type": "code",
   "execution_count": 8,
   "metadata": {
    "execution": {
     "iopub.execute_input": "2021-02-20T07:45:10.706692Z",
     "iopub.status.busy": "2021-02-20T07:45:10.693067Z",
     "iopub.status.idle": "2021-02-20T07:45:30.981335Z",
     "shell.execute_reply": "2021-02-20T07:45:30.980004Z"
    },
    "papermill": {
     "duration": 20.310079,
     "end_time": "2021-02-20T07:45:30.981629",
     "exception": false,
     "start_time": "2021-02-20T07:45:10.671550",
     "status": "completed"
    },
    "tags": []
   },
   "outputs": [
    {
     "name": "stdout",
     "output_type": "stream",
     "text": [
      "[nltk_data] Error loading stopwords: <urlopen error [Errno -3]\n",
      "[nltk_data]     Temporary failure in name resolution>\n"
     ]
    },
    {
     "data": {
      "text/plain": [
       "'Three people died heat wave far'"
      ]
     },
     "execution_count": 8,
     "metadata": {},
     "output_type": "execute_result"
    }
   ],
   "source": [
    "nltk.download('stopwords')\n",
    "stopwords_list = stopwords.words('english')\n",
    "stopwords_list.remove('no')\n",
    "stopwords_list.remove('not')\n",
    "\n",
    "train_df.text = train_df.text.apply(lambda x :\" \".join( x for x in x.split()  if x not in stopwords_list))\n",
    "train_df.text[10]"
   ]
  },
  {
   "cell_type": "markdown",
   "metadata": {},
   "source": [
    "**Tokenizations**"
   ]
  },
  {
   "cell_type": "code",
   "execution_count": 9,
   "metadata": {
    "execution": {
     "iopub.execute_input": "2021-02-20T07:45:31.031561Z",
     "iopub.status.busy": "2021-02-20T07:45:31.030694Z",
     "iopub.status.idle": "2021-02-20T07:45:52.479504Z",
     "shell.execute_reply": "2021-02-20T07:45:52.478428Z"
    },
    "papermill": {
     "duration": 21.476877,
     "end_time": "2021-02-20T07:45:52.479686",
     "exception": false,
     "start_time": "2021-02-20T07:45:31.002809",
     "status": "completed"
    },
    "tags": []
   },
   "outputs": [
    {
     "name": "stdout",
     "output_type": "stream",
     "text": [
      "[nltk_data] Error loading punkt: <urlopen error [Errno -3] Temporary\n",
      "[nltk_data]     failure in name resolution>\n"
     ]
    },
    {
     "data": {
      "text/plain": [
       "['Three', 'people', 'died', 'heat', 'wave', 'far']"
      ]
     },
     "execution_count": 9,
     "metadata": {},
     "output_type": "execute_result"
    }
   ],
   "source": [
    "nltk.download('punkt')\n",
    "train_df.text = train_df.text.apply(word_tokenize)\n",
    "\n",
    "train_df.text[10]"
   ]
  },
  {
   "cell_type": "markdown",
   "metadata": {},
   "source": [
    "**Lemmatizations**"
   ]
  },
  {
   "cell_type": "code",
   "execution_count": 10,
   "metadata": {
    "execution": {
     "iopub.execute_input": "2021-02-20T07:45:52.524370Z",
     "iopub.status.busy": "2021-02-20T07:45:52.523606Z",
     "iopub.status.idle": "2021-02-20T07:46:15.242472Z",
     "shell.execute_reply": "2021-02-20T07:46:15.242977Z"
    },
    "papermill": {
     "duration": 22.747894,
     "end_time": "2021-02-20T07:46:15.243197",
     "exception": false,
     "start_time": "2021-02-20T07:45:52.495303",
     "status": "completed"
    },
    "tags": []
   },
   "outputs": [
    {
     "name": "stdout",
     "output_type": "stream",
     "text": [
      "[nltk_data] Error loading wordnet: <urlopen error [Errno -3] Temporary\n",
      "[nltk_data]     failure in name resolution>\n"
     ]
    },
    {
     "data": {
      "text/plain": [
       "['M', 'UTCkm', 'S', 'Volcano', 'Hawaii']"
      ]
     },
     "execution_count": 10,
     "metadata": {},
     "output_type": "execute_result"
    }
   ],
   "source": [
    "nltk.download('wordnet')\n",
    "lem =WordNetLemmatizer()\n",
    "\n",
    "train_df.text = train_df.text.apply(lambda x : [lem.lemmatize(word) for word in x])\n",
    "train_df.text[7610]"
   ]
  },
  {
   "cell_type": "code",
   "execution_count": 11,
   "metadata": {
    "execution": {
     "iopub.execute_input": "2021-02-20T07:46:15.301211Z",
     "iopub.status.busy": "2021-02-20T07:46:15.300180Z",
     "iopub.status.idle": "2021-02-20T07:46:15.303587Z",
     "shell.execute_reply": "2021-02-20T07:46:15.302967Z"
    },
    "papermill": {
     "duration": 0.04277,
     "end_time": "2021-02-20T07:46:15.303739",
     "exception": false,
     "start_time": "2021-02-20T07:46:15.260969",
     "status": "completed"
    },
    "tags": []
   },
   "outputs": [],
   "source": [
    "train_df.text = train_df.text.astype(str)"
   ]
  },
  {
   "cell_type": "code",
   "execution_count": 12,
   "metadata": {
    "execution": {
     "iopub.execute_input": "2021-02-20T07:46:15.341505Z",
     "iopub.status.busy": "2021-02-20T07:46:15.340518Z",
     "iopub.status.idle": "2021-02-20T07:46:15.348511Z",
     "shell.execute_reply": "2021-02-20T07:46:15.349122Z"
    },
    "papermill": {
     "duration": 0.029429,
     "end_time": "2021-02-20T07:46:15.349402",
     "exception": false,
     "start_time": "2021-02-20T07:46:15.319973",
     "status": "completed"
    },
    "tags": []
   },
   "outputs": [],
   "source": [
    "X = train_df.text\n",
    "y = train_df.target\n",
    "X_test = test_df.text"
   ]
  },
  {
   "cell_type": "markdown",
   "metadata": {},
   "source": [
    "**Feature Extration using TFIDF Vectorization**"
   ]
  },
  {
   "cell_type": "code",
   "execution_count": 13,
   "metadata": {
    "execution": {
     "iopub.execute_input": "2021-02-20T07:46:15.386779Z",
     "iopub.status.busy": "2021-02-20T07:46:15.386108Z",
     "iopub.status.idle": "2021-02-20T07:46:15.580373Z",
     "shell.execute_reply": "2021-02-20T07:46:15.579654Z"
    },
    "papermill": {
     "duration": 0.214108,
     "end_time": "2021-02-20T07:46:15.580545",
     "exception": false,
     "start_time": "2021-02-20T07:46:15.366437",
     "status": "completed"
    },
    "tags": []
   },
   "outputs": [],
   "source": [
    "from sklearn.feature_extraction.text import TfidfVectorizer\n",
    "Vec = TfidfVectorizer()\n",
    "X_tfidf = Vec.fit_transform(X)"
   ]
  },
  {
   "cell_type": "markdown",
   "metadata": {},
   "source": [
    "**Classification Models**"
   ]
  },
  {
   "cell_type": "code",
   "execution_count": 14,
   "metadata": {
    "execution": {
     "iopub.execute_input": "2021-02-20T07:46:15.621169Z",
     "iopub.status.busy": "2021-02-20T07:46:15.620107Z",
     "iopub.status.idle": "2021-02-20T07:46:15.667866Z",
     "shell.execute_reply": "2021-02-20T07:46:15.668743Z"
    },
    "papermill": {
     "duration": 0.071746,
     "end_time": "2021-02-20T07:46:15.669083",
     "exception": false,
     "start_time": "2021-02-20T07:46:15.597337",
     "status": "completed"
    },
    "tags": []
   },
   "outputs": [
    {
     "data": {
      "text/plain": [
       "0.9570471561802181"
      ]
     },
     "execution_count": 14,
     "metadata": {},
     "output_type": "execute_result"
    }
   ],
   "source": [
    "#np.random.seed(42)\n",
    "from sklearn import linear_model\n",
    "rd_clf = linear_model.RidgeClassifier()\n",
    "rd_clf.fit(X_tfidf,y)\n",
    "rd_clf.score(X_tfidf,y)"
   ]
  },
  {
   "cell_type": "code",
   "execution_count": 15,
   "metadata": {
    "execution": {
     "iopub.execute_input": "2021-02-20T07:46:15.739256Z",
     "iopub.status.busy": "2021-02-20T07:46:15.738183Z",
     "iopub.status.idle": "2021-02-20T07:46:28.914570Z",
     "shell.execute_reply": "2021-02-20T07:46:28.913888Z"
    },
    "papermill": {
     "duration": 13.214275,
     "end_time": "2021-02-20T07:46:28.914731",
     "exception": false,
     "start_time": "2021-02-20T07:46:15.700456",
     "status": "completed"
    },
    "tags": []
   },
   "outputs": [
    {
     "data": {
      "text/plain": [
       "0.9662419545514251"
      ]
     },
     "execution_count": 15,
     "metadata": {},
     "output_type": "execute_result"
    }
   ],
   "source": [
    "np.random.seed(42)\n",
    "from sklearn.svm import SVC\n",
    "svc_clf=SVC()\n",
    "svc_clf.fit(X_tfidf,y)\n",
    "svc_clf.score(X_tfidf,y)"
   ]
  },
  {
   "cell_type": "code",
   "execution_count": null,
   "metadata": {
    "papermill": {
     "duration": 0.017647,
     "end_time": "2021-02-20T07:46:28.950031",
     "exception": false,
     "start_time": "2021-02-20T07:46:28.932384",
     "status": "completed"
    },
    "tags": []
   },
   "outputs": [],
   "source": []
  }
 ],
 "metadata": {
  "kernelspec": {
   "display_name": "Python 3",
   "language": "python",
   "name": "python3"
  },
  "language_info": {
   "codemirror_mode": {
    "name": "ipython",
    "version": 3
   },
   "file_extension": ".py",
   "mimetype": "text/x-python",
   "name": "python",
   "nbconvert_exporter": "python",
   "pygments_lexer": "ipython3",
   "version": "3.8.3"
  },
  "papermill": {
   "default_parameters": {},
   "duration": 88.915806,
   "end_time": "2021-02-20T07:46:31.167862",
   "environment_variables": {},
   "exception": null,
   "input_path": "__notebook__.ipynb",
   "output_path": "__notebook__.ipynb",
   "parameters": {},
   "start_time": "2021-02-20T07:45:02.252056",
   "version": "2.2.2"
  }
 },
 "nbformat": 4,
 "nbformat_minor": 4
}
